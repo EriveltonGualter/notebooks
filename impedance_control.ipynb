{
 "cells": [
  {
   "cell_type": "markdown",
   "metadata": {},
   "source": [
    "## Demonstration of the basic feedbacl law for the Electromechanical Systems with Energy Regeneration\n",
    "\n",
    "> Richter, Hanz, and Dhipak Selvaraj. \"Impedance control with energy regeneration in advanced exercise machines.\" *American Control Conference (ACC)*, 2015. IEEE, 2015.\n",
    "\n",
    "According to the previous [modeling work](http://nbviewer.jupyter.org/github/eriveltongualter/notebooks/blob/master/model.ipynb) of the following schematic, th system is described below: \n",
    "\n",
    "<figure><img src='images/rowing_schematic.png' width=\"400\" alt=\"\" style=\"float:left;margin: 10 10 10 10px;\"/></figure><br><br><br>\n",
    "\n",
    "$$ \\dot\\Theta_g = \\omega_g$$\n",
    "$$ \\dot w_g = \\frac{1}{J_t} \\left(r\\cdot F(t) - k_s\\cdot\\Theta_g - \\Phi_t - \\frac{\\alpha^2}{R}\\omega_g + \\frac{\\alpha\\cdot u}{RC}q_c\\right) $$\n",
    "$$ \\dot q_c = \\frac{\\alpha\\cdot u}{R}\\omega_g - \\frac{u^2}{RC}q_c$$\n",
    "\n",
    "<br><br><br><br>To obtain the target impedance is necessary to find the system's control input $u$. For this task, it was used the mass-spring-damper characteristic:\n",
    "\n",
    "$$ I \\ddot x + B \\dot x + K \\left( x - x_0 \\right) = F $$\n",
    "\n",
    "Then, we can find the linear acceleration:\n",
    "\n",
    "$$\\ddot x = \\frac{F - B \\dot x - K \\left( x - x_0 \\right)}{I} $$\n",
    "\n",
    "> $I$, $B$ and $K$ are adjustable impedance parameters. \n",
    "\n",
    "Therefore, to find $u$ is just necessary to equal the mass-spring-damper characteristic rowing machine equations. \n",
    "\n",
    "Knowing that $ \\ddot x = \\dot\\omega r$ and $ \\dot x = \\omega r$, we can find $ \\ddot x $:\n",
    "\n",
    "$$ \\ddot x = \\frac{1}{J_t} \\left(r^2\\cdot F(t) - k_s\\cdot\\Theta_g r - \\Phi_t r - \\frac{\\alpha^2 r}{R} \\frac{\\dot x}{r} + \\frac{\\alpha\\cdot r \\cdot u}{RC}q_c\\right) $$\n",
    "\n",
    "Then:\n",
    "\n",
    "$$ \\frac{1}{J_t} \\left(r^2 F(t) - k_s\\Theta_g r - \\Phi_t r - \\frac{\\alpha^2 r}{R} \\frac{\\dot x}{r} + \\frac{\\alpha r  u}{RC}q_c\\right) = \\frac{F - B \\dot x - K \\left( x - x_0 \\right)}{I} $$\n",
    "\n",
    "$$ r^2 F(t) - k_s\\Theta_g r - \\Phi_t r - \\frac{\\alpha^2 \\dot x}{R}  + \\frac{\\alpha r  u}{RC}q_c = \\frac{F J_t - B \\dot x  J_t - K  J_t\\left( x - x_0 \\right)}{I} $$\n",
    "\n",
    "$$\\frac{\\alpha r  u}{RC}q_c = \\frac{F J_t - B \\dot x  J_t - K  J_t\\left( x - x_0 \\right)}{I} - r^2 F(t) + k_s\\Theta_g r + \\Phi_t r + \\frac{\\alpha^2 \\dot x}{R} $$\n",
    "\n",
    "$$\\frac{\\alpha r  u}{RC}q_c = \\frac{F J_t R - B \\dot x  J_t  R - K  J_t R\\left( x - x_0 \\right) - r^2 F(t) RI + k_s\\Theta_g r RI + \\Phi_t r RI + \\alpha^2  I\\dot x }{R I} $$\n",
    "\n",
    "$$ u = \\frac{C}{\\alpha r  q_c}\\left( \\frac{F J_t R - B \\dot x  J_t  R - K  J_t R\\left( x - x_0 \\right) - r^2 F(t) RI + k_s\\Theta_g r RI + \\Phi_t r RI + \\alpha^2  I\\dot x }{R I} \\right) $$\n",
    "\n",
    "Now, we can simplify:\n",
    "\n",
    "$$ u = \\frac{R}{\\alpha r I} \\frac{\\left(J_t -Ir^2 \\right)F + \\left(I a^2 / R - BJ_r \\right)\\dot x + IrK\\Theta + Ir\\Phi  - KRJ_t \\left( x-x_0\\right)}{q_c/C} $$\n",
    "\n",
    "---\n",
    "```\n",
    "Question:\n",
    "\n",
    "1 - The feedback law is closed to the on found in the paper; however, it has the K influency. Is there any information missing about this part?\n",
    "\n",
    "```"
   ]
  },
  {
   "cell_type": "markdown",
   "metadata": {},
   "source": [
    "According to the paper, the feedback contorl shou be: <figure><img src='images/control_law.png' width=\"500\" alt=\"\" style=\"float:right\"/></figure>\n"
   ]
  }
 ],
 "metadata": {
  "kernelspec": {
   "display_name": "Python 2",
   "language": "python",
   "name": "python2"
  },
  "language_info": {
   "codemirror_mode": {
    "name": "ipython",
    "version": 2
   },
   "file_extension": ".py",
   "mimetype": "text/x-python",
   "name": "python",
   "nbconvert_exporter": "python",
   "pygments_lexer": "ipython2",
   "version": "2.7.13"
  }
 },
 "nbformat": 4,
 "nbformat_minor": 2
}
