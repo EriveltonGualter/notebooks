{
 "cells": [
  {
   "cell_type": "markdown",
   "metadata": {},
   "source": [
    "$$ \\dot q_c = \\frac{\\alpha\\cdot u}{R}\\omega_g - \\frac{u^2}{RC}q_c$$\n",
    "\n",
    "$$ \\dot x = r\\cdot\\omega_g $$ \n",
    "$$ x = r\\cdot\\Theta_g $$\n",
    "\n",
    "$$ \\dot q_c = \\frac{\\alpha\\cdot u}{R}\\frac{\\dot x}{r} - \\frac{u^2}{RC}q_c$$\n",
    "\n",
    "$$ \\dot q_cq_c = \\frac{\\alpha\\cdot u}{R}\\frac{\\dot x}{r}q_c - \\frac{u^2}{RC}q_c^2$$\n",
    " \n",
    "$$\\int_{t_o}^{t_f} q_c  \\,dt = \\frac{\\alpha}{Rr} \\int_{t_o}^{t_f} \\dot x \\left( u q_c\\right)\\,dt - \\frac{1}\n",
    "{RC}\\int_{t_o}^{t_f} \\left( u q_c\\right)^2 \\,dt $$\n",
    "\n",
    "$$ \\left.\\frac{q_c^2}{2}\\right|_{t_0}^{t_f} = \\frac{\\alpha}{Rr} \\int_{t_o}^{t_f} \\dot x \\left( u q_c\\right)\\,dt - \\frac{1}{RC}\\int_{t_o}^{t_f} \\left( u q_c\\right)^2 \\,dt $$\n",
    "\n",
    "$$ \\left.\\frac{q_c^2}{2C}\\right|_{t_0}^{t_f} = \\frac{\\alpha}{RCr} \\int_{t_o}^{t_f} \\dot x \\left( u q_c\\right)\\,dt - \\frac{1}{RC^2}\\int_{t_o}^{t_f} \\left( u q_c\\right)^2 \\,dt $$"
   ]
  }
 ],
 "metadata": {
  "kernelspec": {
   "display_name": "Python 2",
   "language": "python",
   "name": "python2"
  },
  "language_info": {
   "codemirror_mode": {
    "name": "ipython",
    "version": 2
   },
   "file_extension": ".py",
   "mimetype": "text/x-python",
   "name": "python",
   "nbconvert_exporter": "python",
   "pygments_lexer": "ipython2",
   "version": "2.7.13"
  }
 },
 "nbformat": 4,
 "nbformat_minor": 2
}
