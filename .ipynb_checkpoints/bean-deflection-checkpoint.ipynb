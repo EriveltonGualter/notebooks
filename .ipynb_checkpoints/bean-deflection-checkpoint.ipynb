{
 "cells": [
  {
   "cell_type": "markdown",
   "metadata": {},
   "source": [
    "## Initial capture experiment of beam deflection\n",
    "\n",
    "The goal of this experiment is simply to understand how to handle Image Processing tools in Matlab. Therefore, I recorded a video from the CHMS lab of a bending experiment. The future goals is to evaluate materials composition of a beam using Image Processing toolbox. \n",
    "\n",
    "Watch the recorded video:"
   ]
  },
  {
   "cell_type": "code",
   "execution_count": 5,
   "metadata": {},
   "outputs": [
    {
     "data": {
      "image/jpeg": "[encoded data removed]",
      "text/html": [
       "\n",
       "        <iframe\n",
       "            width=\"640\"\n",
       "            height=\"360\"\n",
       "            src=\"https://www.youtube.com/embed/FtOtPIsWgH4?rel=0\"\n",
       "            frameborder=\"0\"\n",
       "            allowfullscreen\n",
       "        ></iframe>\n",
       "        "
      ],
      "text/plain": [
       "<IPython.lib.display.YouTubeVideo at 0x7f3bb1ef5bd0>"
      ]
     },
     "execution_count": 5,
     "metadata": {},
     "output_type": "execute_result"
    }
   ],
   "source": [
    "from IPython.display import YouTubeVideo\n",
    "YouTubeVideo('FtOtPIsWgH4', width=640, height=360, rel=0)"
   ]
  },
  {
   "cell_type": "markdown",
   "metadata": {},
   "source": [
    "Instead of trying to analyze the video, which I think it is also possible, I created a sequence of images using the following command on Ubuntu:\n",
    "\n",
    "<figure><img src='images/beam/step.png' width=\"400\" alt=\"\" style=\"float:right;margin: 10 10 10 10px;\"/></figure>\n",
    "\n",
    "```sh\n",
    "ffmpeg -i beam_deflection.mov -r 1 -f image2 beam-%01d.jpg\n",
    "```\n",
    "\n",
    "I started analyzing one image in the matlab, then I created a loop to do with all recorded images. So, I created a matlab script based on the following steps:\n",
    "\n",
    "1. Read image using the imread;\n",
    "2. Convert to grayscale using the rgb2gray;\n",
    "3. Crop the region of interest;\n",
    "4. Binarized the image;\n",
    "5. Excluded part of the structure because it was a noise for the following steps;\n",
    "6. Find the coefficients of polynomial;\n",
    "7. Plot and save the figure in the same folder.\n",
    "\n",
    "The last step was to generate a .gif image. For this task I used:\n",
    "\n",
    "```sh\n",
    "convert -delay 100 -loop *.png output.gif\n",
    "```\n",
    "\n",
    "Check the final results:\n",
    "\n",
    "<figure><img src='images/beam/output.gif' alt=\"\" style=\"float:center;margin: 10 10 10 10px;\"/></figure>\n",
    "\n",
    "The code used is avaliable in the GitHub repository:\n",
    "\n",
    "<figure><img src='images/logos/GitHub-Mark-32px.png' alt=\"\" style=\"float:left\"/></figure>\n",
    "> [Beam Deflection Aquisition](https://github.com/EriveltonGualter/beam-deflection-analysis)\n",
    "\n",
    "---\n",
    "\n",
    "##### References\n",
    "* [Extract curve from an image](https://www.mathworks.com/matlabcentral/answers/140830-calculate-equation-of-a-curve-from-an-image)\n",
    "* [Convert a video into a series of images](http://www.upubuntu.com/2012/03/how-to-convert-video-into-series-of.html)\n",
    "* [Creating GIF image in Ubuntu](https://www.youtube.com/watch?v=OFusYizJ-bA)"
   ]
  },
  {
   "cell_type": "code",
   "execution_count": null,
   "metadata": {
    "collapsed": true
   },
   "outputs": [],
   "source": [
    "\n"
   ]
  }
 ],
 "metadata": {
  "kernelspec": {
   "display_name": "Python 2",
   "language": "python",
   "name": "python2"
  },
  "language_info": {
   "codemirror_mode": {
    "name": "ipython",
    "version": 2
   },
   "file_extension": ".py",
   "mimetype": "text/x-python",
   "name": "python",
   "nbconvert_exporter": "python",
   "pygments_lexer": "ipython2",
   "version": "2.7.13"
  }
 },
 "nbformat": 4,
 "nbformat_minor": 2
}
